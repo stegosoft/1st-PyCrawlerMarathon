{
 "cells": [
  {
   "cell_type": "markdown",
   "metadata": {},
   "source": [
    "# 加速：多線程爬蟲\n",
    "\n",
    "\n",
    "\n",
    "* 了解知乎 API 使用方式與回傳內容\n",
    "* 撰寫程式存取 API 且添加標頭"
   ]
  },
  {
   "cell_type": "markdown",
   "metadata": {},
   "source": [
    "## 作業目標\n",
    "\n",
    "* 找一個之前實作過的爬蟲改用多線程改寫，比較前後時間的差異。\n",
    "\n",
    "\n",
    "\n"
   ]
  },
  {
   "cell_type": "code",
   "execution_count": 6,
   "metadata": {},
   "outputs": [],
   "source": [
    "# 打開瀏覽器\n",
    "\n",
    "from selenium import webdriver\n",
    "from selenium.webdriver.support.ui import Select\n",
    "from selenium.webdriver.support.wait import WebDriverWait\n",
    "from selenium.webdriver.support import expected_conditions as EC\n",
    "from bs4 import BeautifulSoup\n",
    "\n",
    "def get_SO2(site):\n",
    "    browser = webdriver.Chrome(executable_path='chromedriver')\n",
    "\n",
    "    browser.get(\"http://taqm.epa.gov.tw/taqm/tw/MonthlyAverage.aspx\")\n",
    "\n",
    "    # 模擬使用者操作行為，選擇/點擊\n",
    "\n",
    "    selectSite = Select(browser.find_element_by_id(\"ctl05_ddlSite\"))\n",
    "    selectSite.select_by_value(site)\n",
    "    selectYear = Select(browser.find_element_by_id(\"ctl05_ddlYear\"))\n",
    "    selectYear.select_by_value('2018')\n",
    "\n",
    "    browser.find_element_by_id('ctl05_btnQuery').click()\n",
    "\n",
    "    locator=(\"id\", \"ctl05_gv\")\n",
    "    try:\n",
    "        WebDriverWait(browser, 30, 0.5).until(EC.presence_of_element_located(locator))\n",
    "    finally:\n",
    "        print('')\n",
    "\n",
    "    # 取得資料，丟到 BeautifulSoup 解析\n",
    "\n",
    "    html_source = browser.page_source\n",
    "\n",
    "    soup = BeautifulSoup(html_source, 'html.parser')\n",
    "    table = soup.find('table', class_='TABLE_G')\n",
    "    trs=table.find_all('tr')\n",
    "\n",
    "    bool_so2=False\n",
    "    str_date=''\n",
    "    str_value=''\n",
    "    for tr in trs:\n",
    "        tds=tr.find_all('td')\n",
    "        if (len(tds)>0):\n",
    "            if (len(tds)==5):\n",
    "                bool_so2=tds[0].text=='SO2'\n",
    "                if (bool_so2):\n",
    "                    str_date=tds[2].text\n",
    "                    str_value=tds[3].text\n",
    "            else:\n",
    "                str_date=tds[0].text\n",
    "                str_value=tds[1].text\n",
    "        if (bool_so2):\n",
    "            if (str_date<='2018/08'):\n",
    "                print(f\"{str_date} / {str_value}\")"
   ]
  },
  {
   "cell_type": "code",
   "execution_count": 7,
   "metadata": {},
   "outputs": [
    {
     "name": "stdout",
     "output_type": "stream",
     "text": [
      "\n",
      "2018/01 / 1.80\n",
      "2018/02 / 1.90\n",
      "2018/03 / 2.20\n",
      "2018/04 / 2.30\n",
      "2018/05 / 3.10\n",
      "2018/06 / 2.70\n",
      "2018/07 / 2.20\n",
      "2018/08 / 2.40\n",
      "\n",
      "2018/01 / 2.40\n",
      "2018/02 / 2.60\n",
      "2018/03 / 2.90\n",
      "2018/04 / 3.20\n",
      "2018/05 / 4.20\n",
      "2018/06 / 3\n",
      "2018/07 / 3.10\n",
      "2018/08 / 3.90\n",
      "18.33515167236328\n"
     ]
    }
   ],
   "source": [
    "import time\n",
    "\n",
    "startTime = time.time()\n",
    "get_SO2('11')\n",
    "get_SO2('6')\n",
    "finishTime = time.time()\n",
    "print(finishTime - startTime) # 正常情況的爬蟲所需時間"
   ]
  },
  {
   "cell_type": "code",
   "execution_count": 10,
   "metadata": {},
   "outputs": [
    {
     "name": "stdout",
     "output_type": "stream",
     "text": [
      "0.0\n",
      "\n",
      "2018/01 / 2.40\n",
      "2018/02 / 2.60\n",
      "2018/03 / 2.90\n",
      "2018/04 / 3.20\n",
      "2018/05 / 4.20\n",
      "2018/06 / 3\n",
      "2018/07 / 3.10\n",
      "2018/08 / 3.90\n",
      "\n",
      "2018/01 / 1.80\n",
      "2018/02 / 1.90\n",
      "2018/03 / 2.20\n",
      "2018/04 / 2.30\n",
      "2018/05 / 3.10\n",
      "2018/06 / 2.70\n",
      "2018/07 / 2.20\n",
      "2018/08 / 2.40\n"
     ]
    }
   ],
   "source": [
    "import _thread\n",
    "\n",
    "sites = ['11', '6']\n",
    "\n",
    "startTime = time.time()\n",
    "\n",
    "for site in sites:\n",
    "    _thread.start_new_thread( get_SO2, (site,) )\n",
    "\n",
    "finishTime = time.time()\n",
    "print(finishTime - startTime) # 利用 thread 的爬蟲所需時間"
   ]
  }
 ],
 "metadata": {
  "colab": {
   "name": "homework.ipynb",
   "provenance": []
  },
  "kernelspec": {
   "display_name": "Python 3",
   "language": "python",
   "name": "python3"
  },
  "language_info": {
   "codemirror_mode": {
    "name": "ipython",
    "version": 3
   },
   "file_extension": ".py",
   "mimetype": "text/x-python",
   "name": "python",
   "nbconvert_exporter": "python",
   "pygments_lexer": "ipython3",
   "version": "3.6.5"
  }
 },
 "nbformat": 4,
 "nbformat_minor": 1
}
