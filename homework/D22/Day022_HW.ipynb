{
 "cells": [
  {
   "cell_type": "markdown",
   "metadata": {},
   "source": [
    "# 空氣污染監測網 網路爬蟲實作練習\n",
    "\n",
    "\n",
    "* 能夠利用 selenium + BeautifulSoup 撰寫爬蟲，並存放到合適的資料結構\n"
   ]
  },
  {
   "cell_type": "markdown",
   "metadata": {},
   "source": [
    "## 作業目標\n",
    "\n",
    "根據範例 ，完成以下問題：\n",
    "\n",
    "* ① 取出 台北市士林區 2018/01 – 2018/08 的 SO2 資料\n",
    "* ② 取出 台北市士林區 2018/01 – 2018/08 的 SO2、CO 資料\n",
    "\n",
    "\n",
    "\n"
   ]
  },
  {
   "cell_type": "markdown",
   "metadata": {},
   "source": [
    "### ① 取出 台北市士林區 2018/01 – 2018/08 的 SO2 資料"
   ]
  },
  {
   "cell_type": "code",
   "execution_count": 5,
   "metadata": {},
   "outputs": [
    {
     "name": "stdout",
     "output_type": "stream",
     "text": [
      "\n",
      "2018/01 / 1.80\n",
      "2018/02 / 1.90\n",
      "2018/03 / 2.20\n",
      "2018/04 / 2.30\n",
      "2018/05 / 3.10\n",
      "2018/06 / 2.70\n",
      "2018/07 / 2.20\n",
      "2018/08 / 2.40\n"
     ]
    }
   ],
   "source": [
    "# 打開瀏覽器\n",
    "\n",
    "from selenium import webdriver\n",
    "from selenium.webdriver.support.ui import Select\n",
    "from selenium.webdriver.support.wait import WebDriverWait\n",
    "from selenium.webdriver.support import expected_conditions as EC\n",
    "from bs4 import BeautifulSoup\n",
    "\n",
    "\n",
    "browser = webdriver.Chrome(executable_path='chromedriver')\n",
    "\n",
    "browser.get(\"http://taqm.epa.gov.tw/taqm/tw/MonthlyAverage.aspx\")\n",
    "\n",
    "# 模擬使用者操作行為，選擇/點擊\n",
    "\n",
    "selectSite = Select(browser.find_element_by_id(\"ctl05_ddlSite\"))\n",
    "selectSite.select_by_value('11')\n",
    "selectYear = Select(browser.find_element_by_id(\"ctl05_ddlYear\"))\n",
    "selectYear.select_by_value('2018')\n",
    "\n",
    "browser.find_element_by_id('ctl05_btnQuery').click()\n",
    "\n",
    "locator=(\"id\", \"ctl05_gv\")\n",
    "try:\n",
    "    WebDriverWait(browser, 30, 0.5).until(EC.presence_of_element_located(locator))\n",
    "finally:\n",
    "    print('')\n",
    "\n",
    "# 取得資料，丟到 BeautifulSoup 解析\n",
    "\n",
    "html_source = browser.page_source\n",
    "\n",
    "soup = BeautifulSoup(html_source, 'html.parser')\n",
    "table = soup.find('table', class_='TABLE_G')\n",
    "trs=table.find_all('tr')\n",
    "\n",
    "bool_so2=False\n",
    "str_date=''\n",
    "str_value=''\n",
    "for tr in trs:\n",
    "    tds=tr.find_all('td')\n",
    "    if (len(tds)>0):\n",
    "        if (len(tds)==5):\n",
    "            bool_so2=tds[0].text=='SO2'\n",
    "            if (bool_so2):\n",
    "                str_date=tds[2].text\n",
    "                str_value=tds[3].text\n",
    "        else:\n",
    "            str_date=tds[0].text\n",
    "            str_value=tds[1].text\n",
    "    if (bool_so2):\n",
    "        if (str_date<='2018/08'):\n",
    "            print(f\"{str_date} / {str_value}\")\n",
    "        "
   ]
  },
  {
   "cell_type": "markdown",
   "metadata": {},
   "source": [
    "### ② 取出 台北市士林區 2018/01 – 2018/08 的 SO2、CO 資料"
   ]
  },
  {
   "cell_type": "code",
   "execution_count": 11,
   "metadata": {},
   "outputs": [
    {
     "name": "stdout",
     "output_type": "stream",
     "text": [
      "{'SO2': {'2018/01': '1.80', '2018/02': '1.90', '2018/03': '2.20', '2018/04': '2.30', '2018/05': '3.10', '2018/06': '2.70', '2018/07': '2.20', '2018/08': '2.40'}, 'CO': {'2018/01': '0.34', '2018/02': '0.44', '2018/03': '0.40', '2018/04': '0.38', '2018/05': '0.34', '2018/06': '0.29', '2018/07': '0.21', '2018/08': '0.30'}}\n"
     ]
    }
   ],
   "source": [
    "items=[]\n",
    "monitor_items=[]\n",
    "search_item=['SO2','CO']\n",
    "\n",
    "bool_is_search_item=False\n",
    "for tr in trs:\n",
    "    tds=tr.find_all('td')\n",
    "    if (len(tds)>0):\n",
    "        if (len(tds)==5):\n",
    "            bool_is_search_item=tds[0].text in search_item\n",
    "            if (bool_is_search_item):\n",
    "                items.append(tds[0].text)\n",
    "                monitor_item={}\n",
    "                monitor_items.append(monitor_item)\n",
    "                str_date=tds[2].text\n",
    "                str_value=tds[3].text\n",
    "        else:\n",
    "            str_date=tds[0].text\n",
    "            str_value=tds[1].text\n",
    "    if (bool_is_search_item):\n",
    "        if (str_date<='2018/08'):\n",
    "            monitor_item[str_date]=str_value\n",
    "d={}\n",
    "for item, monitor in zip(items, monitor_items):\n",
    "    d[item]=monitor\n",
    "print(d)"
   ]
  },
  {
   "cell_type": "code",
   "execution_count": null,
   "metadata": {},
   "outputs": [],
   "source": []
  }
 ],
 "metadata": {
  "kernelspec": {
   "display_name": "Python 3",
   "language": "python",
   "name": "python3"
  },
  "language_info": {
   "codemirror_mode": {
    "name": "ipython",
    "version": 3
   },
   "file_extension": ".py",
   "mimetype": "text/x-python",
   "name": "python",
   "nbconvert_exporter": "python",
   "pygments_lexer": "ipython3",
   "version": "3.6.5"
  }
 },
 "nbformat": 4,
 "nbformat_minor": 2
}
