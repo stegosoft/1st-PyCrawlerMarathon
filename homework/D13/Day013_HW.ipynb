{
 "cells": [
  {
   "cell_type": "markdown",
   "metadata": {},
   "source": [
    "# PTT 網路爬蟲實作練習\n",
    "\n",
    "\n",
    "* 能夠利用 Request + BeatifulSour 撰寫爬蟲，並存放到合適的資料結構\n"
   ]
  },
  {
   "cell_type": "markdown",
   "metadata": {},
   "source": [
    "## 作業目標\n",
    "\n",
    "根據範例 ，完成以下問題：\n",
    "\n",
    "* ① 印出最新文章的「作者」「標題」「時間」\n",
    "* ② 印出第一頁所有文章的「作者」「標題」「時間」\n"
   ]
  },
  {
   "cell_type": "markdown",
   "metadata": {},
   "source": [
    "### ① 印出最新文章的「作者」「標題」「時間」"
   ]
  },
  {
   "cell_type": "code",
   "execution_count": 15,
   "metadata": {},
   "outputs": [
    {
     "name": "stdout",
     "output_type": "stream",
     "text": [
      "作者: la1aco, 標題： [討論] 本季到目前最讓你另眼相看的球員, 時間：Sat Dec 14 17:21:32 2019\n"
     ]
    }
   ],
   "source": [
    "import requests\n",
    "from bs4 import BeautifulSoup\n",
    "from lxml import etree\n",
    "\n",
    "url = 'https://www.ptt.cc/bbs/NBA/index.html'\n",
    "r = requests.get(url)\n",
    "\n",
    "soup = BeautifulSoup(r.text, \"html5lib\")\n",
    "\n",
    "for d in soup.find_all(class_=\"r-ent\"):\n",
    "    string_time=''\n",
    "    title=d.find(class_=\"title\").find('a')\n",
    "    try:\n",
    "        news = etree.HTML(requests.get('https://www.ptt.cc'+title['href']).text)\n",
    "        time_parent_element=news.xpath(\"//div[span[contains(text(),'時間')]]\")\n",
    "        string_time=time_parent_element[0].xpath(\"span[@class='article-meta-value']\")[0].text\n",
    "        author=d.find(class_=\"author\")\n",
    "        title=d.find(class_=\"title\").find('a')\n",
    "        print(f'作者: {author.text}, 標題： {title.text}, 時間：{string_time}')\n",
    "    except:\n",
    "        continue        \n",
    "    break"
   ]
  },
  {
   "cell_type": "markdown",
   "metadata": {},
   "source": [
    "### ② 印出第一頁所有文章的「作者」「標題」「時間」"
   ]
  },
  {
   "cell_type": "code",
   "execution_count": 16,
   "metadata": {},
   "outputs": [
    {
     "name": "stdout",
     "output_type": "stream",
     "text": [
      "作者: la1aco, 標題： [討論] 本季到目前最讓你另眼相看的球員, 時間：Sat Dec 14 17:21:32 2019\n",
      "作者: arx55522, 標題： [討論] BG跟Love是不是溢價PF難兄難弟, 時間：Sat Dec 14 18:18:38 2019\n",
      "作者: GOBS, 標題： Re: [情報] Doncic想重現Wade和James經典灌籃照, 時間：Sat Dec 14 18:33:17 2019\n",
      "作者: forwardgo, 標題： [討論] 吉米巴特勒的成就是不是已經超越玫瑰了, 時間：Sat Dec 14 18:39:54 2019\n",
      "作者: sam369, 標題： Re: [討論] 吉米巴特勒的成就是不是已經超越玫瑰了, 時間：Sat Dec 14 18:49:50 2019\n",
      "作者: Yui5, 標題： [新聞] 唐西奇等人西班牙語也通 獨行俠猛圈粉拉, 時間：Sat Dec 14 19:19:58 2019\n",
      "作者: manuginobii, 標題： [情報] 尼克連勝後 勇士是本季唯一沒有連勝的隊, 時間：Sat Dec 14 20:31:22 2019\n",
      "作者: mascotliao, 標題： Re: [討論] 吉米巴特勒的成就是不是已經超越玫瑰了, 時間：Sat Dec 14 21:12:15 2019\n",
      "作者: s785602, 標題： [討論] 西河生涯是不是完勝玫瑰?, 時間：Sat Dec 14 21:25:08 2019\n",
      "作者: Vedan, 標題： [公告] 請勿仿造標題，意圖製造系列文鬧板, 時間：Sat Dec 14 22:18:34 2019\n",
      "作者: Teentop, 標題： [花邊] 帕森斯一年領7億！美媒：羨慕他的生活, 時間：Sat Dec 14 23:25:43 2019\n",
      "作者: whoAU, 標題： [情報] Kerr: 五年打500+比賽有權利輪休, 時間：Sat Dec 14 23:27:44 2019\n",
      "作者: Vedan, 標題： [公告] 樂透取消及未來不再開啟樂透, 時間：Mon Jun 24 15:08:02 2019\n",
      "作者: qazwsx879345, 標題： [公告] 版主上任相關事項 , 時間：Fri Oct 25 10:44:03 2019\n",
      "作者: dragon803, 標題： [公告]是否禁止basketball top 5文章投票開始 , 時間：Sun Dec  8 23:55:00 2019\n"
     ]
    }
   ],
   "source": [
    "for d in soup.find_all(class_=\"r-ent\"):\n",
    "    string_time=''\n",
    "    title=d.find(class_=\"title\").find('a')\n",
    "    try:\n",
    "        news = etree.HTML(requests.get('https://www.ptt.cc'+title['href']).text)\n",
    "        time_parent_element=news.xpath(\"//div[span[contains(text(),'時間')]]\")\n",
    "        string_time=time_parent_element[0].xpath(\"span[@class='article-meta-value']\")[0].text\n",
    "        author=d.find(class_=\"author\")\n",
    "        title=d.find(class_=\"title\").find('a')\n",
    "        print(f'作者: {author.text}, 標題： {title.text}, 時間：{string_time}')\n",
    "    except:\n",
    "        continue    "
   ]
  },
  {
   "cell_type": "markdown",
   "metadata": {},
   "source": [
    "### ③ 試著爬爬看其他版的文章"
   ]
  },
  {
   "cell_type": "code",
   "execution_count": 17,
   "metadata": {},
   "outputs": [
    {
     "name": "stdout",
     "output_type": "stream",
     "text": [
      "作者: gail0720, 標題： [徵才] 信安科技誠徵後端工程師, 時間：Thu Dec 12 20:05:11 2019\n",
      "作者: Steven130169, 標題： [徵才] iMarts 觀光旅遊新創-誠徵php後端工程師, 時間：Fri Dec 13 07:26:02 2019\n",
      "作者: howtotell, 標題： [請益] 想中文翻譯Python的入門書, 時間：Fri Dec 13 15:17:47 2019\n",
      "作者: MOONY135, 標題： [公告] dolinian徵才多po(初犯刪文警告 年終加碼), 時間：Fri Dec 13 21:25:24 2019\n",
      "作者: StratApostle, 標題： [請益] 外包後 後續維護問題相關一問, 時間：Sat Dec 14 20:04:56 2019\n",
      "作者: MOONY135, 標題： [公告] 本板板規  2017/4/10更新, 時間：Fri Aug  4 14:18:53 2017\n",
      "作者: MOONY135, 標題： [公告] 徵才不符板規或徵才自刪公司, 時間：Fri Aug  4 14:21:30 2017\n",
      "作者: MOONY135, 標題： [情報] 訓練課程與付費APP與網站分享, 時間：Fri Aug  4 19:49:16 2017\n",
      "作者: MOONY135, 標題： [情報] 社群活動與免費APP與網站分享, 時間：Fri Aug  4 19:50:43 2017\n",
      "作者: MOONY135, 標題： Fw: [公告] 請使用安全的連線方式連線本站, 時間：Sun Nov 24 22:43:44 2019\n"
     ]
    }
   ],
   "source": [
    "url = 'https://www.ptt.cc/bbs/Soft_Job/index.html'\n",
    "r = requests.get(url)\n",
    "\n",
    "soup = BeautifulSoup(r.text, \"html5lib\")\n",
    "\n",
    "for d in soup.find_all(class_=\"r-ent\"):\n",
    "    string_time=''\n",
    "    title=d.find(class_=\"title\").find('a')\n",
    "    try:\n",
    "        news = etree.HTML(requests.get('https://www.ptt.cc'+title['href']).text)\n",
    "        time_parent_element=news.xpath(\"//div[span[contains(text(),'時間')]]\")\n",
    "        string_time=time_parent_element[0].xpath(\"span[@class='article-meta-value']\")[0].text\n",
    "        author=d.find(class_=\"author\")\n",
    "        title=d.find(class_=\"title\").find('a')\n",
    "        print(f'作者: {author.text}, 標題： {title.text}, 時間：{string_time}')\n",
    "    except:\n",
    "        continue        "
   ]
  }
 ],
 "metadata": {
  "kernelspec": {
   "display_name": "Python 3",
   "language": "python",
   "name": "python3"
  },
  "language_info": {
   "codemirror_mode": {
    "name": "ipython",
    "version": 3
   },
   "file_extension": ".py",
   "mimetype": "text/x-python",
   "name": "python",
   "nbconvert_exporter": "python",
   "pygments_lexer": "ipython3",
   "version": "3.6.5"
  }
 },
 "nbformat": 4,
 "nbformat_minor": 2
}
